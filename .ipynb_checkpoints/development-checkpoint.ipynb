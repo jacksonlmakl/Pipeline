{
 "cells": [
  {
   "cell_type": "code",
   "execution_count": 1,
   "id": "19877173-0cc5-4d32-8d79-754f24aefce2",
   "metadata": {},
   "outputs": [],
   "source": [
    "from core import Pipeline\n",
    "p=Pipeline('sample.xml')"
   ]
  },
  {
   "cell_type": "code",
   "execution_count": 2,
   "id": "c4bc52ca-8480-4509-81fe-9138eb1be360",
   "metadata": {},
   "outputs": [
    {
     "data": {
      "text/plain": [
       "[<core.Task.Task at 0x1064094f0>]"
      ]
     },
     "execution_count": 2,
     "metadata": {},
     "output_type": "execute_result"
    }
   ],
   "source": [
    "p.tasks"
   ]
  },
  {
   "cell_type": "code",
   "execution_count": null,
   "id": "d3e12b76-d0a1-4483-9259-91b6a8935cfd",
   "metadata": {},
   "outputs": [],
   "source": [
    "p."
   ]
  }
 ],
 "metadata": {
  "kernelspec": {
   "display_name": "DEV",
   "language": "python",
   "name": "env"
  },
  "language_info": {
   "codemirror_mode": {
    "name": "ipython",
    "version": 3
   },
   "file_extension": ".py",
   "mimetype": "text/x-python",
   "name": "python",
   "nbconvert_exporter": "python",
   "pygments_lexer": "ipython3",
   "version": "3.12.6"
  }
 },
 "nbformat": 4,
 "nbformat_minor": 5
}
